{
  "nbformat": 4,
  "nbformat_minor": 0,
  "metadata": {
    "colab": {
      "name": "DS_Sprint_Challenge_22.ipynb",
      "provenance": [],
      "collapsed_sections": [],
      "include_colab_link": true
    },
    "kernelspec": {
      "display_name": "Python 3",
      "language": "python",
      "name": "python3"
    },
    "language_info": {
      "codemirror_mode": {
        "name": "ipython",
        "version": 3
      },
      "file_extension": ".py",
      "mimetype": "text/x-python",
      "name": "python",
      "nbconvert_exporter": "python",
      "pygments_lexer": "ipython3",
      "version": "3.8.5"
    }
  },
  "cells": [
    {
      "cell_type": "markdown",
      "metadata": {
        "id": "view-in-github",
        "colab_type": "text"
      },
      "source": [
        "<a href=\"https://colab.research.google.com/github/TAVAU/DS-Unit-2-Linear-Models/blob/master/DS_Sprint_Challenge_22.ipynb\" target=\"_parent\"><img src=\"https://colab.research.google.com/assets/colab-badge.svg\" alt=\"Open In Colab\"/></a>"
      ]
    },
    {
      "cell_type": "markdown",
      "metadata": {
        "deletable": false,
        "editable": false,
        "id": "M3XH_XLsy_Bn",
        "nbgrader": {
          "cell_type": "markdown",
          "checksum": "3cda62270676bf56b34fe29465f1add1",
          "grade": false,
          "grade_id": "cell-7b7a3d8bc00f7c5d",
          "locked": true,
          "schema_version": 3,
          "solution": false,
          "task": false
        }
      },
      "source": [
        "_Lambda School Data Science, Unit 2_\n",
        "\n",
        "---"
      ]
    },
    {
      "cell_type": "markdown",
      "metadata": {
        "id": "EiHiLn1S7rcn"
      },
      "source": [
        "👇 **Do not change the code in this cell.** If you're working in Google Colab, you can run this cell to install `category_encoders`."
      ]
    },
    {
      "cell_type": "code",
      "metadata": {
        "deletable": false,
        "editable": false,
        "id": "-a7Lo3XiOUrH",
        "nbgrader": {
          "cell_type": "code",
          "checksum": "2cf805202878a43b6677e1d45ac4da6d",
          "grade": false,
          "grade_id": "cell-fd3a0dbfc4b9265f",
          "locked": true,
          "schema_version": 3,
          "solution": false,
          "task": false
        }
      },
      "source": [
        "%%capture\n",
        "import sys\n",
        "\n",
        "if 'google.colab' in sys.modules:\n",
        "    # Install packages in Colab\n",
        "    !pip install category_encoders"
      ],
      "execution_count": 120,
      "outputs": []
    },
    {
      "cell_type": "markdown",
      "metadata": {
        "deletable": false,
        "editable": false,
        "id": "VGLNhZO_OUrM",
        "nbgrader": {
          "cell_type": "markdown",
          "checksum": "88ba1fa9ea78f0afb94fcb9aa53f7435",
          "grade": false,
          "grade_id": "cell-d6eff2274645bd61",
          "locked": true,
          "schema_version": 3,
          "solution": false,
          "task": false
        }
      },
      "source": [
        " \n",
        "# Sprint Challenge: Predict Steph Curry's Shots 🏀\n",
        "\n",
        "For your Sprint Challenge, you'll use a dataset with all Steph Curry's NBA field goal attempts from October 2009 through June 2019 (regular season and playoffs). The dataset was collected with the [nba_api](https://github.com/swar/nba_api) Python library.\n",
        "\n",
        "You'll create a model to predict whether Curry will make a shot based on his past perfomance."
      ]
    },
    {
      "cell_type": "markdown",
      "metadata": {
        "deletable": false,
        "editable": false,
        "id": "K3xt9YTSOUrN",
        "nbgrader": {
          "cell_type": "markdown",
          "checksum": "746679bdefe8a36452807b584846628e",
          "grade": false,
          "grade_id": "cell-9aed6a1cff735430",
          "locked": true,
          "schema_version": 3,
          "solution": false,
          "task": false
        }
      },
      "source": [
        "# Directions\n",
        "\n",
        "This notebook contains 10 tasks, which cover the material we've learned in this sprint. Here's a summary:\n",
        "\n",
        "- **Task 1:** Importing data.\n",
        "- **Task 2:** Feature engineering.\n",
        "- **Task 3:** Splitting data into a feature matrix and target vector.\n",
        "- **Task 4:** Splitting data into training, validation, and test sets.\n",
        "- **Task 5:** Establishing baseline accuracy.\n",
        "- **Task 6:** Building a model with a transformer and a tree-based predictor.\n",
        "- **Task 7:** Calculating training and validation accuracy.\n",
        "- **Task 8 (`stretch goal`):** Tuning model hyperparameters.\n",
        "- **Task 9:** Calculating precision and recall from a confusion matrix.\n",
        "- **Task 10 (`stretch goal`):** Plotting a confusion matrix.\n",
        "\n",
        "For each task you should do the following:\n",
        "\n",
        "- Read the task instructions.\n",
        "- Write your code in the cell below the task. Delete the `raise \n",
        "NotImplementedError` before your start.\n",
        "- Run the testing cell below the task. If you get an error, read the error message and re-evaluate your code.\n",
        "\n",
        "**You should limit your code to the following libraries:**\n",
        "\n",
        "- `category_encoders`\n",
        "- `numpy`\n",
        "- `matplotlib`\n",
        "- `pandas`\n",
        "- `sklearn`\n",
        "\n"
      ]
    },
    {
      "cell_type": "markdown",
      "metadata": {
        "deletable": false,
        "editable": false,
        "id": "8CakIhmwOUrP",
        "nbgrader": {
          "cell_type": "markdown",
          "checksum": "eea5568a328ffc86470fc220567bfcd4",
          "grade": false,
          "grade_id": "cell-09a1516a86d168cc",
          "locked": true,
          "schema_version": 3,
          "solution": false,
          "task": false
        }
      },
      "source": [
        "# I. Wrangle Data\n",
        "\n",
        "**Task 1:** Change the code below to import your dataset. Be sure to examine the columns carefully and determine if one of them should be set at the index. "
      ]
    },
    {
      "cell_type": "code",
      "metadata": {
        "colab": {
          "base_uri": "https://localhost:8080/",
          "height": 309
        },
        "deletable": false,
        "id": "NWVOhicLOUrQ",
        "nbgrader": {
          "cell_type": "code",
          "checksum": "3a6e0dfee7d760919c2fd0182e764b5f",
          "grade": false,
          "grade_id": "225SC_01a_q",
          "locked": false,
          "schema_version": 3,
          "solution": true,
          "task": false
        },
        "outputId": "c76c276d-faf6-4e83-c909-2515acc6afe5"
      },
      "source": [
        "'''T1. Import DataFrame `df`'''\n",
        "\n",
        "import pandas as pd\n",
        "url = 'https://drive.google.com/uc?export=download&id=1fL7KPyxgGYfQDsuJoBWHIWwCAf-HTFpX'\n",
        "df = pd.read_csv(url)\n",
        "# YOUR CODE HERE\n",
        "df.head()"
      ],
      "execution_count": 121,
      "outputs": [
        {
          "output_type": "execute_result",
          "data": {
            "text/html": [
              "<div>\n",
              "<style scoped>\n",
              "    .dataframe tbody tr th:only-of-type {\n",
              "        vertical-align: middle;\n",
              "    }\n",
              "\n",
              "    .dataframe tbody tr th {\n",
              "        vertical-align: top;\n",
              "    }\n",
              "\n",
              "    .dataframe thead th {\n",
              "        text-align: right;\n",
              "    }\n",
              "</style>\n",
              "<table border=\"1\" class=\"dataframe\">\n",
              "  <thead>\n",
              "    <tr style=\"text-align: right;\">\n",
              "      <th></th>\n",
              "      <th>game_id</th>\n",
              "      <th>game_event_id</th>\n",
              "      <th>player_name</th>\n",
              "      <th>period</th>\n",
              "      <th>minutes_remaining</th>\n",
              "      <th>seconds_remaining</th>\n",
              "      <th>action_type</th>\n",
              "      <th>shot_type</th>\n",
              "      <th>shot_zone_basic</th>\n",
              "      <th>shot_zone_area</th>\n",
              "      <th>shot_zone_range</th>\n",
              "      <th>shot_distance</th>\n",
              "      <th>loc_x</th>\n",
              "      <th>loc_y</th>\n",
              "      <th>shot_made_flag</th>\n",
              "      <th>game_date</th>\n",
              "      <th>htm</th>\n",
              "      <th>vtm</th>\n",
              "      <th>season_type</th>\n",
              "      <th>scoremargin_before_shot</th>\n",
              "    </tr>\n",
              "  </thead>\n",
              "  <tbody>\n",
              "    <tr>\n",
              "      <th>0</th>\n",
              "      <td>20900015</td>\n",
              "      <td>4</td>\n",
              "      <td>Stephen Curry</td>\n",
              "      <td>1</td>\n",
              "      <td>11</td>\n",
              "      <td>25</td>\n",
              "      <td>Jump Shot</td>\n",
              "      <td>3PT Field Goal</td>\n",
              "      <td>Above the Break 3</td>\n",
              "      <td>Right Side Center(RC)</td>\n",
              "      <td>24+ ft.</td>\n",
              "      <td>26</td>\n",
              "      <td>99</td>\n",
              "      <td>249</td>\n",
              "      <td>0</td>\n",
              "      <td>2009-10-28</td>\n",
              "      <td>GSW</td>\n",
              "      <td>HOU</td>\n",
              "      <td>Regular Season</td>\n",
              "      <td>2.0</td>\n",
              "    </tr>\n",
              "    <tr>\n",
              "      <th>1</th>\n",
              "      <td>20900015</td>\n",
              "      <td>17</td>\n",
              "      <td>Stephen Curry</td>\n",
              "      <td>1</td>\n",
              "      <td>9</td>\n",
              "      <td>31</td>\n",
              "      <td>Step Back Jump shot</td>\n",
              "      <td>2PT Field Goal</td>\n",
              "      <td>Mid-Range</td>\n",
              "      <td>Left Side Center(LC)</td>\n",
              "      <td>16-24 ft.</td>\n",
              "      <td>18</td>\n",
              "      <td>-122</td>\n",
              "      <td>145</td>\n",
              "      <td>1</td>\n",
              "      <td>2009-10-28</td>\n",
              "      <td>GSW</td>\n",
              "      <td>HOU</td>\n",
              "      <td>Regular Season</td>\n",
              "      <td>0.0</td>\n",
              "    </tr>\n",
              "    <tr>\n",
              "      <th>2</th>\n",
              "      <td>20900015</td>\n",
              "      <td>53</td>\n",
              "      <td>Stephen Curry</td>\n",
              "      <td>1</td>\n",
              "      <td>6</td>\n",
              "      <td>2</td>\n",
              "      <td>Jump Shot</td>\n",
              "      <td>2PT Field Goal</td>\n",
              "      <td>In The Paint (Non-RA)</td>\n",
              "      <td>Center(C)</td>\n",
              "      <td>8-16 ft.</td>\n",
              "      <td>14</td>\n",
              "      <td>-60</td>\n",
              "      <td>129</td>\n",
              "      <td>0</td>\n",
              "      <td>2009-10-28</td>\n",
              "      <td>GSW</td>\n",
              "      <td>HOU</td>\n",
              "      <td>Regular Season</td>\n",
              "      <td>-4.0</td>\n",
              "    </tr>\n",
              "    <tr>\n",
              "      <th>3</th>\n",
              "      <td>20900015</td>\n",
              "      <td>141</td>\n",
              "      <td>Stephen Curry</td>\n",
              "      <td>2</td>\n",
              "      <td>9</td>\n",
              "      <td>49</td>\n",
              "      <td>Jump Shot</td>\n",
              "      <td>2PT Field Goal</td>\n",
              "      <td>Mid-Range</td>\n",
              "      <td>Left Side(L)</td>\n",
              "      <td>16-24 ft.</td>\n",
              "      <td>19</td>\n",
              "      <td>-172</td>\n",
              "      <td>82</td>\n",
              "      <td>0</td>\n",
              "      <td>2009-10-28</td>\n",
              "      <td>GSW</td>\n",
              "      <td>HOU</td>\n",
              "      <td>Regular Season</td>\n",
              "      <td>-4.0</td>\n",
              "    </tr>\n",
              "    <tr>\n",
              "      <th>4</th>\n",
              "      <td>20900015</td>\n",
              "      <td>249</td>\n",
              "      <td>Stephen Curry</td>\n",
              "      <td>2</td>\n",
              "      <td>2</td>\n",
              "      <td>19</td>\n",
              "      <td>Jump Shot</td>\n",
              "      <td>2PT Field Goal</td>\n",
              "      <td>Mid-Range</td>\n",
              "      <td>Left Side Center(LC)</td>\n",
              "      <td>16-24 ft.</td>\n",
              "      <td>16</td>\n",
              "      <td>-68</td>\n",
              "      <td>148</td>\n",
              "      <td>0</td>\n",
              "      <td>2009-10-28</td>\n",
              "      <td>GSW</td>\n",
              "      <td>HOU</td>\n",
              "      <td>Regular Season</td>\n",
              "      <td>0.0</td>\n",
              "    </tr>\n",
              "  </tbody>\n",
              "</table>\n",
              "</div>"
            ],
            "text/plain": [
              "    game_id  game_event_id  ...     season_type  scoremargin_before_shot\n",
              "0  20900015              4  ...  Regular Season                      2.0\n",
              "1  20900015             17  ...  Regular Season                      0.0\n",
              "2  20900015             53  ...  Regular Season                     -4.0\n",
              "3  20900015            141  ...  Regular Season                     -4.0\n",
              "4  20900015            249  ...  Regular Season                      0.0\n",
              "\n",
              "[5 rows x 20 columns]"
            ]
          },
          "metadata": {
            "tags": []
          },
          "execution_count": 121
        }
      ]
    },
    {
      "cell_type": "code",
      "metadata": {
        "colab": {
          "base_uri": "https://localhost:8080/",
          "height": 297
        },
        "id": "ZsGWPsorWxd6",
        "outputId": "48116237-5c50-43a6-d88e-d9da8234513d"
      },
      "source": [
        "df.describe()"
      ],
      "execution_count": 122,
      "outputs": [
        {
          "output_type": "execute_result",
          "data": {
            "text/html": [
              "<div>\n",
              "<style scoped>\n",
              "    .dataframe tbody tr th:only-of-type {\n",
              "        vertical-align: middle;\n",
              "    }\n",
              "\n",
              "    .dataframe tbody tr th {\n",
              "        vertical-align: top;\n",
              "    }\n",
              "\n",
              "    .dataframe thead th {\n",
              "        text-align: right;\n",
              "    }\n",
              "</style>\n",
              "<table border=\"1\" class=\"dataframe\">\n",
              "  <thead>\n",
              "    <tr style=\"text-align: right;\">\n",
              "      <th></th>\n",
              "      <th>game_id</th>\n",
              "      <th>game_event_id</th>\n",
              "      <th>period</th>\n",
              "      <th>minutes_remaining</th>\n",
              "      <th>seconds_remaining</th>\n",
              "      <th>shot_distance</th>\n",
              "      <th>loc_x</th>\n",
              "      <th>loc_y</th>\n",
              "      <th>shot_made_flag</th>\n",
              "      <th>scoremargin_before_shot</th>\n",
              "    </tr>\n",
              "  </thead>\n",
              "  <tbody>\n",
              "    <tr>\n",
              "      <th>count</th>\n",
              "      <td>1.395800e+04</td>\n",
              "      <td>13958.000000</td>\n",
              "      <td>13958.000000</td>\n",
              "      <td>13958.000000</td>\n",
              "      <td>13958.000000</td>\n",
              "      <td>13958.000000</td>\n",
              "      <td>13958.000000</td>\n",
              "      <td>13958.000000</td>\n",
              "      <td>13958.000000</td>\n",
              "      <td>13958.000000</td>\n",
              "    </tr>\n",
              "    <tr>\n",
              "      <th>mean</th>\n",
              "      <td>2.442837e+07</td>\n",
              "      <td>270.438458</td>\n",
              "      <td>2.412380</td>\n",
              "      <td>4.727540</td>\n",
              "      <td>28.506376</td>\n",
              "      <td>17.600373</td>\n",
              "      <td>-0.554162</td>\n",
              "      <td>131.257988</td>\n",
              "      <td>0.472919</td>\n",
              "      <td>1.615561</td>\n",
              "    </tr>\n",
              "    <tr>\n",
              "      <th>std</th>\n",
              "      <td>7.226620e+06</td>\n",
              "      <td>169.927170</td>\n",
              "      <td>1.125828</td>\n",
              "      <td>3.331646</td>\n",
              "      <td>17.597701</td>\n",
              "      <td>10.295807</td>\n",
              "      <td>124.721869</td>\n",
              "      <td>102.666562</td>\n",
              "      <td>0.499284</td>\n",
              "      <td>10.127139</td>\n",
              "    </tr>\n",
              "    <tr>\n",
              "      <th>min</th>\n",
              "      <td>2.090002e+07</td>\n",
              "      <td>2.000000</td>\n",
              "      <td>1.000000</td>\n",
              "      <td>0.000000</td>\n",
              "      <td>0.000000</td>\n",
              "      <td>0.000000</td>\n",
              "      <td>-250.000000</td>\n",
              "      <td>-41.000000</td>\n",
              "      <td>0.000000</td>\n",
              "      <td>-39.000000</td>\n",
              "    </tr>\n",
              "    <tr>\n",
              "      <th>25%</th>\n",
              "      <td>2.120091e+07</td>\n",
              "      <td>109.000000</td>\n",
              "      <td>1.000000</td>\n",
              "      <td>2.000000</td>\n",
              "      <td>13.000000</td>\n",
              "      <td>8.000000</td>\n",
              "      <td>-96.000000</td>\n",
              "      <td>23.000000</td>\n",
              "      <td>0.000000</td>\n",
              "      <td>-4.000000</td>\n",
              "    </tr>\n",
              "    <tr>\n",
              "      <th>50%</th>\n",
              "      <td>2.150026e+07</td>\n",
              "      <td>275.500000</td>\n",
              "      <td>2.000000</td>\n",
              "      <td>4.000000</td>\n",
              "      <td>29.000000</td>\n",
              "      <td>22.000000</td>\n",
              "      <td>1.000000</td>\n",
              "      <td>141.000000</td>\n",
              "      <td>0.000000</td>\n",
              "      <td>1.000000</td>\n",
              "    </tr>\n",
              "    <tr>\n",
              "      <th>75%</th>\n",
              "      <td>2.170096e+07</td>\n",
              "      <td>398.000000</td>\n",
              "      <td>3.000000</td>\n",
              "      <td>7.000000</td>\n",
              "      <td>44.000000</td>\n",
              "      <td>25.000000</td>\n",
              "      <td>95.000000</td>\n",
              "      <td>219.000000</td>\n",
              "      <td>1.000000</td>\n",
              "      <td>8.000000</td>\n",
              "    </tr>\n",
              "    <tr>\n",
              "      <th>max</th>\n",
              "      <td>4.180040e+07</td>\n",
              "      <td>752.000000</td>\n",
              "      <td>6.000000</td>\n",
              "      <td>11.000000</td>\n",
              "      <td>59.000000</td>\n",
              "      <td>83.000000</td>\n",
              "      <td>247.000000</td>\n",
              "      <td>811.000000</td>\n",
              "      <td>1.000000</td>\n",
              "      <td>43.000000</td>\n",
              "    </tr>\n",
              "  </tbody>\n",
              "</table>\n",
              "</div>"
            ],
            "text/plain": [
              "            game_id  game_event_id  ...  shot_made_flag  scoremargin_before_shot\n",
              "count  1.395800e+04   13958.000000  ...    13958.000000             13958.000000\n",
              "mean   2.442837e+07     270.438458  ...        0.472919                 1.615561\n",
              "std    7.226620e+06     169.927170  ...        0.499284                10.127139\n",
              "min    2.090002e+07       2.000000  ...        0.000000               -39.000000\n",
              "25%    2.120091e+07     109.000000  ...        0.000000                -4.000000\n",
              "50%    2.150026e+07     275.500000  ...        0.000000                 1.000000\n",
              "75%    2.170096e+07     398.000000  ...        1.000000                 8.000000\n",
              "max    4.180040e+07     752.000000  ...        1.000000                43.000000\n",
              "\n",
              "[8 rows x 10 columns]"
            ]
          },
          "metadata": {
            "tags": []
          },
          "execution_count": 122
        }
      ]
    },
    {
      "cell_type": "code",
      "metadata": {
        "colab": {
          "base_uri": "https://localhost:8080/"
        },
        "id": "AQCvl58L7rco",
        "outputId": "68d6c8eb-f97d-48b4-fa30-38318faf775e"
      },
      "source": [
        "type(df.index)"
      ],
      "execution_count": 123,
      "outputs": [
        {
          "output_type": "execute_result",
          "data": {
            "text/plain": [
              "pandas.core.indexes.range.RangeIndex"
            ]
          },
          "metadata": {
            "tags": []
          },
          "execution_count": 123
        }
      ]
    },
    {
      "cell_type": "markdown",
      "metadata": {
        "deletable": false,
        "editable": false,
        "nbgrader": {
          "cell_type": "markdown",
          "checksum": "9d175018548e99ccb464c05bcd0a8aec",
          "grade": false,
          "grade_id": "cell-7738d198f39f8908",
          "locked": true,
          "schema_version": 3,
          "solution": false,
          "task": false
        },
        "id": "qW5Vn5aw7rco"
      },
      "source": [
        "**Task 1 Testing**"
      ]
    },
    {
      "cell_type": "code",
      "metadata": {
        "deletable": false,
        "editable": false,
        "nbgrader": {
          "cell_type": "code",
          "checksum": "5b221a1569fb4bb63422ef4860840fb6",
          "grade": true,
          "grade_id": "cell-6071eb9ae89cfaca",
          "locked": true,
          "points": 1,
          "schema_version": 3,
          "solution": false,
          "task": false
        },
        "id": "L0Nk4aqA7rco"
      },
      "source": [
        "'''T1 Testing'''\n",
        "\n",
        "assert isinstance(df, pd.DataFrame), 'Have you created a DataFrame named `df`?'\n",
        "assert len(df) == 13958, 'Is `df` the correct length?'\n"
      ],
      "execution_count": 124,
      "outputs": []
    },
    {
      "cell_type": "markdown",
      "metadata": {
        "deletable": false,
        "editable": false,
        "id": "1YaoMGLTOUrS",
        "nbgrader": {
          "cell_type": "markdown",
          "checksum": "7e39e762307c977c1a601f0511630028",
          "grade": false,
          "grade_id": "cell-8490d284c49fed2c",
          "locked": true,
          "schema_version": 3,
          "solution": false,
          "task": false
        }
      },
      "source": [
        "**Task 2a:** Engineer at least 1 new feature. You can use something from the list below or your own idea.\n",
        "\n",
        "- **Homecourt Advantage**: Is the home team (`htm`) the Golden State Warriors (`GSW`) ?\n",
        "- **Opponent**: Who is the other team playing the Golden State Warriors?\n",
        "- **Seconds remaining in the period**: Combine minutes remaining with seconds remaining, to get the total number of seconds remaining in the period.\n",
        "- **Seconds remaining in the game**: Combine period, and seconds remaining in the period, to get the total number of seconds remaining in the game. A basketball game has 4 periods, each 12 minutes long.\n",
        "- **Made previous shot**: Was Steph Curry's previous shot successful?\n",
        "\n",
        "**Task 2b (`stretch goal — optional`):** Create a total of 3 new features, using your own ideas or the list above."
      ]
    },
    {
      "cell_type": "code",
      "metadata": {
        "colab": {
          "base_uri": "https://localhost:8080/",
          "height": 165
        },
        "id": "pwX4U8dSNK9u",
        "outputId": "081afb68-4630-4f12-8511-55e342bf0890"
      },
      "source": [
        "df.head(2)"
      ],
      "execution_count": 125,
      "outputs": [
        {
          "output_type": "execute_result",
          "data": {
            "text/html": [
              "<div>\n",
              "<style scoped>\n",
              "    .dataframe tbody tr th:only-of-type {\n",
              "        vertical-align: middle;\n",
              "    }\n",
              "\n",
              "    .dataframe tbody tr th {\n",
              "        vertical-align: top;\n",
              "    }\n",
              "\n",
              "    .dataframe thead th {\n",
              "        text-align: right;\n",
              "    }\n",
              "</style>\n",
              "<table border=\"1\" class=\"dataframe\">\n",
              "  <thead>\n",
              "    <tr style=\"text-align: right;\">\n",
              "      <th></th>\n",
              "      <th>game_id</th>\n",
              "      <th>game_event_id</th>\n",
              "      <th>player_name</th>\n",
              "      <th>period</th>\n",
              "      <th>minutes_remaining</th>\n",
              "      <th>seconds_remaining</th>\n",
              "      <th>action_type</th>\n",
              "      <th>shot_type</th>\n",
              "      <th>shot_zone_basic</th>\n",
              "      <th>shot_zone_area</th>\n",
              "      <th>shot_zone_range</th>\n",
              "      <th>shot_distance</th>\n",
              "      <th>loc_x</th>\n",
              "      <th>loc_y</th>\n",
              "      <th>shot_made_flag</th>\n",
              "      <th>game_date</th>\n",
              "      <th>htm</th>\n",
              "      <th>vtm</th>\n",
              "      <th>season_type</th>\n",
              "      <th>scoremargin_before_shot</th>\n",
              "    </tr>\n",
              "  </thead>\n",
              "  <tbody>\n",
              "    <tr>\n",
              "      <th>0</th>\n",
              "      <td>20900015</td>\n",
              "      <td>4</td>\n",
              "      <td>Stephen Curry</td>\n",
              "      <td>1</td>\n",
              "      <td>11</td>\n",
              "      <td>25</td>\n",
              "      <td>Jump Shot</td>\n",
              "      <td>3PT Field Goal</td>\n",
              "      <td>Above the Break 3</td>\n",
              "      <td>Right Side Center(RC)</td>\n",
              "      <td>24+ ft.</td>\n",
              "      <td>26</td>\n",
              "      <td>99</td>\n",
              "      <td>249</td>\n",
              "      <td>0</td>\n",
              "      <td>2009-10-28</td>\n",
              "      <td>GSW</td>\n",
              "      <td>HOU</td>\n",
              "      <td>Regular Season</td>\n",
              "      <td>2.0</td>\n",
              "    </tr>\n",
              "    <tr>\n",
              "      <th>1</th>\n",
              "      <td>20900015</td>\n",
              "      <td>17</td>\n",
              "      <td>Stephen Curry</td>\n",
              "      <td>1</td>\n",
              "      <td>9</td>\n",
              "      <td>31</td>\n",
              "      <td>Step Back Jump shot</td>\n",
              "      <td>2PT Field Goal</td>\n",
              "      <td>Mid-Range</td>\n",
              "      <td>Left Side Center(LC)</td>\n",
              "      <td>16-24 ft.</td>\n",
              "      <td>18</td>\n",
              "      <td>-122</td>\n",
              "      <td>145</td>\n",
              "      <td>1</td>\n",
              "      <td>2009-10-28</td>\n",
              "      <td>GSW</td>\n",
              "      <td>HOU</td>\n",
              "      <td>Regular Season</td>\n",
              "      <td>0.0</td>\n",
              "    </tr>\n",
              "  </tbody>\n",
              "</table>\n",
              "</div>"
            ],
            "text/plain": [
              "    game_id  game_event_id  ...     season_type  scoremargin_before_shot\n",
              "0  20900015              4  ...  Regular Season                      2.0\n",
              "1  20900015             17  ...  Regular Season                      0.0\n",
              "\n",
              "[2 rows x 20 columns]"
            ]
          },
          "metadata": {
            "tags": []
          },
          "execution_count": 125
        }
      ]
    },
    {
      "cell_type": "code",
      "metadata": {
        "colab": {
          "base_uri": "https://localhost:8080/",
          "height": 309
        },
        "deletable": false,
        "id": "X_rdysSxOUrS",
        "nbgrader": {
          "cell_type": "code",
          "checksum": "b2678ff5b2c193d4af565689966550e8",
          "grade": false,
          "grade_id": "225SC_01b_q",
          "locked": false,
          "schema_version": 3,
          "solution": true,
          "task": false
        },
        "outputId": "ed211952-6e62-42ab-a84d-1356d49a38a5"
      },
      "source": [
        "\"\"\"T2. Create new feature\"\"\"\n",
        "\n",
        "df['homecourt_advantage'] = df['htm'].apply(lambda x: 1 if x == 'GSW' else 0)\n",
        "df.head()"
      ],
      "execution_count": 126,
      "outputs": [
        {
          "output_type": "execute_result",
          "data": {
            "text/html": [
              "<div>\n",
              "<style scoped>\n",
              "    .dataframe tbody tr th:only-of-type {\n",
              "        vertical-align: middle;\n",
              "    }\n",
              "\n",
              "    .dataframe tbody tr th {\n",
              "        vertical-align: top;\n",
              "    }\n",
              "\n",
              "    .dataframe thead th {\n",
              "        text-align: right;\n",
              "    }\n",
              "</style>\n",
              "<table border=\"1\" class=\"dataframe\">\n",
              "  <thead>\n",
              "    <tr style=\"text-align: right;\">\n",
              "      <th></th>\n",
              "      <th>game_id</th>\n",
              "      <th>game_event_id</th>\n",
              "      <th>player_name</th>\n",
              "      <th>period</th>\n",
              "      <th>minutes_remaining</th>\n",
              "      <th>seconds_remaining</th>\n",
              "      <th>action_type</th>\n",
              "      <th>shot_type</th>\n",
              "      <th>shot_zone_basic</th>\n",
              "      <th>shot_zone_area</th>\n",
              "      <th>shot_zone_range</th>\n",
              "      <th>shot_distance</th>\n",
              "      <th>loc_x</th>\n",
              "      <th>loc_y</th>\n",
              "      <th>shot_made_flag</th>\n",
              "      <th>game_date</th>\n",
              "      <th>htm</th>\n",
              "      <th>vtm</th>\n",
              "      <th>season_type</th>\n",
              "      <th>scoremargin_before_shot</th>\n",
              "      <th>homecourt_advantage</th>\n",
              "    </tr>\n",
              "  </thead>\n",
              "  <tbody>\n",
              "    <tr>\n",
              "      <th>0</th>\n",
              "      <td>20900015</td>\n",
              "      <td>4</td>\n",
              "      <td>Stephen Curry</td>\n",
              "      <td>1</td>\n",
              "      <td>11</td>\n",
              "      <td>25</td>\n",
              "      <td>Jump Shot</td>\n",
              "      <td>3PT Field Goal</td>\n",
              "      <td>Above the Break 3</td>\n",
              "      <td>Right Side Center(RC)</td>\n",
              "      <td>24+ ft.</td>\n",
              "      <td>26</td>\n",
              "      <td>99</td>\n",
              "      <td>249</td>\n",
              "      <td>0</td>\n",
              "      <td>2009-10-28</td>\n",
              "      <td>GSW</td>\n",
              "      <td>HOU</td>\n",
              "      <td>Regular Season</td>\n",
              "      <td>2.0</td>\n",
              "      <td>1</td>\n",
              "    </tr>\n",
              "    <tr>\n",
              "      <th>1</th>\n",
              "      <td>20900015</td>\n",
              "      <td>17</td>\n",
              "      <td>Stephen Curry</td>\n",
              "      <td>1</td>\n",
              "      <td>9</td>\n",
              "      <td>31</td>\n",
              "      <td>Step Back Jump shot</td>\n",
              "      <td>2PT Field Goal</td>\n",
              "      <td>Mid-Range</td>\n",
              "      <td>Left Side Center(LC)</td>\n",
              "      <td>16-24 ft.</td>\n",
              "      <td>18</td>\n",
              "      <td>-122</td>\n",
              "      <td>145</td>\n",
              "      <td>1</td>\n",
              "      <td>2009-10-28</td>\n",
              "      <td>GSW</td>\n",
              "      <td>HOU</td>\n",
              "      <td>Regular Season</td>\n",
              "      <td>0.0</td>\n",
              "      <td>1</td>\n",
              "    </tr>\n",
              "    <tr>\n",
              "      <th>2</th>\n",
              "      <td>20900015</td>\n",
              "      <td>53</td>\n",
              "      <td>Stephen Curry</td>\n",
              "      <td>1</td>\n",
              "      <td>6</td>\n",
              "      <td>2</td>\n",
              "      <td>Jump Shot</td>\n",
              "      <td>2PT Field Goal</td>\n",
              "      <td>In The Paint (Non-RA)</td>\n",
              "      <td>Center(C)</td>\n",
              "      <td>8-16 ft.</td>\n",
              "      <td>14</td>\n",
              "      <td>-60</td>\n",
              "      <td>129</td>\n",
              "      <td>0</td>\n",
              "      <td>2009-10-28</td>\n",
              "      <td>GSW</td>\n",
              "      <td>HOU</td>\n",
              "      <td>Regular Season</td>\n",
              "      <td>-4.0</td>\n",
              "      <td>1</td>\n",
              "    </tr>\n",
              "    <tr>\n",
              "      <th>3</th>\n",
              "      <td>20900015</td>\n",
              "      <td>141</td>\n",
              "      <td>Stephen Curry</td>\n",
              "      <td>2</td>\n",
              "      <td>9</td>\n",
              "      <td>49</td>\n",
              "      <td>Jump Shot</td>\n",
              "      <td>2PT Field Goal</td>\n",
              "      <td>Mid-Range</td>\n",
              "      <td>Left Side(L)</td>\n",
              "      <td>16-24 ft.</td>\n",
              "      <td>19</td>\n",
              "      <td>-172</td>\n",
              "      <td>82</td>\n",
              "      <td>0</td>\n",
              "      <td>2009-10-28</td>\n",
              "      <td>GSW</td>\n",
              "      <td>HOU</td>\n",
              "      <td>Regular Season</td>\n",
              "      <td>-4.0</td>\n",
              "      <td>1</td>\n",
              "    </tr>\n",
              "    <tr>\n",
              "      <th>4</th>\n",
              "      <td>20900015</td>\n",
              "      <td>249</td>\n",
              "      <td>Stephen Curry</td>\n",
              "      <td>2</td>\n",
              "      <td>2</td>\n",
              "      <td>19</td>\n",
              "      <td>Jump Shot</td>\n",
              "      <td>2PT Field Goal</td>\n",
              "      <td>Mid-Range</td>\n",
              "      <td>Left Side Center(LC)</td>\n",
              "      <td>16-24 ft.</td>\n",
              "      <td>16</td>\n",
              "      <td>-68</td>\n",
              "      <td>148</td>\n",
              "      <td>0</td>\n",
              "      <td>2009-10-28</td>\n",
              "      <td>GSW</td>\n",
              "      <td>HOU</td>\n",
              "      <td>Regular Season</td>\n",
              "      <td>0.0</td>\n",
              "      <td>1</td>\n",
              "    </tr>\n",
              "  </tbody>\n",
              "</table>\n",
              "</div>"
            ],
            "text/plain": [
              "    game_id  game_event_id  ... scoremargin_before_shot  homecourt_advantage\n",
              "0  20900015              4  ...                     2.0                    1\n",
              "1  20900015             17  ...                     0.0                    1\n",
              "2  20900015             53  ...                    -4.0                    1\n",
              "3  20900015            141  ...                    -4.0                    1\n",
              "4  20900015            249  ...                     0.0                    1\n",
              "\n",
              "[5 rows x 21 columns]"
            ]
          },
          "metadata": {
            "tags": []
          },
          "execution_count": 126
        }
      ]
    },
    {
      "cell_type": "markdown",
      "metadata": {
        "deletable": false,
        "editable": false,
        "id": "9JivGpcEOUrV",
        "nbgrader": {
          "cell_type": "markdown",
          "checksum": "18dbccc05e878201fa3b667e5937b755",
          "grade": false,
          "grade_id": "cell-58c684eafc846d48",
          "locked": true,
          "schema_version": 3,
          "solution": false,
          "task": false
        }
      },
      "source": [
        "**Task 2 Test**"
      ]
    },
    {
      "cell_type": "code",
      "metadata": {
        "deletable": false,
        "editable": false,
        "id": "700-jf3nOUrW",
        "nbgrader": {
          "cell_type": "code",
          "checksum": "188d989e0e75d8376d5dce4ca8ae3fd6",
          "grade": true,
          "grade_id": "225SC_01_a",
          "locked": true,
          "points": 1,
          "schema_version": 3,
          "solution": false,
          "task": false
        }
      },
      "source": [
        "'''T2 Testing'''\n",
        "\n",
        "assert df.shape[1] >= 20, '`df` does not appear to have new features.'\n"
      ],
      "execution_count": 127,
      "outputs": []
    },
    {
      "cell_type": "markdown",
      "metadata": {
        "deletable": false,
        "editable": false,
        "id": "Nh3whBpUOUrZ",
        "nbgrader": {
          "cell_type": "markdown",
          "checksum": "d4c27458bcc532324a3a506a1cf41a2c",
          "grade": false,
          "grade_id": "cell-965e44063af534b5",
          "locked": true,
          "schema_version": 3,
          "solution": false,
          "task": false
        }
      },
      "source": [
        "# II. Split Data\n",
        "\n",
        "**Task 3:** Divide the DataFrame `df` into the feature matrix `X` and the target vector `y`. Your target is `'shot_made_flag'`."
      ]
    },
    {
      "cell_type": "code",
      "metadata": {
        "deletable": false,
        "id": "1S9T0AfMOUrZ",
        "nbgrader": {
          "cell_type": "code",
          "checksum": "0f30252ff9e8f3519a29d0364bb2f53b",
          "grade": false,
          "grade_id": "225SC_02a_q",
          "locked": false,
          "schema_version": 3,
          "solution": true,
          "task": false
        }
      },
      "source": [
        "'''T3. Create `X` and `y`.'''\n",
        "target = 'shot_made_flag'\n",
        "y = df[target]\n",
        "X = df.drop(columns=target)"
      ],
      "execution_count": 128,
      "outputs": []
    },
    {
      "cell_type": "markdown",
      "metadata": {
        "deletable": false,
        "editable": false,
        "nbgrader": {
          "cell_type": "markdown",
          "checksum": "4e82cdb48c341d83735b201986c66813",
          "grade": false,
          "grade_id": "cell-6ad9cd44f4e272c6",
          "locked": true,
          "schema_version": 3,
          "solution": false,
          "task": false
        },
        "id": "73gLEH6z7rco"
      },
      "source": [
        "**Task 3 Test**"
      ]
    },
    {
      "cell_type": "code",
      "metadata": {
        "deletable": false,
        "editable": false,
        "nbgrader": {
          "cell_type": "code",
          "checksum": "a0c8ebd72a7b107af8a8cb73e3a1f530",
          "grade": true,
          "grade_id": "cell-1a89d8c845a9424c",
          "locked": true,
          "points": 1,
          "schema_version": 3,
          "solution": false,
          "task": false
        },
        "id": "SKRWwsXl7rco"
      },
      "source": [
        "'''T3 Tests'''\n",
        "\n",
        "assert y.shape == (13958,), '`y` either has the wrong number of rows, or is two-dimentional.'\n",
        "assert len(X) == 13958, '`X` has the wrong number of rows.'\n",
        "assert X.shape[1] > 1, '`X` has the wrong number of columns'\n",
        "assert 'shot_made_flag' not in X.columns, 'Target is still part of feature matrix.' "
      ],
      "execution_count": 129,
      "outputs": []
    },
    {
      "cell_type": "markdown",
      "metadata": {
        "deletable": false,
        "editable": false,
        "id": "YE1j6w2lOUrc",
        "nbgrader": {
          "cell_type": "markdown",
          "checksum": "3f8300af36f2b36806330e353d482d75",
          "grade": false,
          "grade_id": "cell-5f93454935747581",
          "locked": true,
          "schema_version": 3,
          "solution": false,
          "task": false
        }
      },
      "source": [
        "**Task 4:** Divide your dataset into training, validation, and test sets. \n",
        "\n",
        "- Your training set (`X_train`, `y_train`) should contain games from the 2009-10 season through the 2016-17 season.\n",
        "- Your validation set (`X_val`, `y_val`) should contain games from the 2017-18 season.\n",
        "- Your test set (`X_test`, `y_test`) should contain games from the 2018-2019 season.\n",
        "- **Tip:** The NBA season begins in October and ends in June."
      ]
    },
    {
      "cell_type": "code",
      "metadata": {
        "colab": {
          "base_uri": "https://localhost:8080/",
          "height": 165
        },
        "id": "b5oCBJQlS37v",
        "outputId": "a42d8653-4ad5-4e3b-f3c9-d1a446d36fef"
      },
      "source": [
        "df.head(2)"
      ],
      "execution_count": 130,
      "outputs": [
        {
          "output_type": "execute_result",
          "data": {
            "text/html": [
              "<div>\n",
              "<style scoped>\n",
              "    .dataframe tbody tr th:only-of-type {\n",
              "        vertical-align: middle;\n",
              "    }\n",
              "\n",
              "    .dataframe tbody tr th {\n",
              "        vertical-align: top;\n",
              "    }\n",
              "\n",
              "    .dataframe thead th {\n",
              "        text-align: right;\n",
              "    }\n",
              "</style>\n",
              "<table border=\"1\" class=\"dataframe\">\n",
              "  <thead>\n",
              "    <tr style=\"text-align: right;\">\n",
              "      <th></th>\n",
              "      <th>game_id</th>\n",
              "      <th>game_event_id</th>\n",
              "      <th>player_name</th>\n",
              "      <th>period</th>\n",
              "      <th>minutes_remaining</th>\n",
              "      <th>seconds_remaining</th>\n",
              "      <th>action_type</th>\n",
              "      <th>shot_type</th>\n",
              "      <th>shot_zone_basic</th>\n",
              "      <th>shot_zone_area</th>\n",
              "      <th>shot_zone_range</th>\n",
              "      <th>shot_distance</th>\n",
              "      <th>loc_x</th>\n",
              "      <th>loc_y</th>\n",
              "      <th>shot_made_flag</th>\n",
              "      <th>game_date</th>\n",
              "      <th>htm</th>\n",
              "      <th>vtm</th>\n",
              "      <th>season_type</th>\n",
              "      <th>scoremargin_before_shot</th>\n",
              "      <th>homecourt_advantage</th>\n",
              "    </tr>\n",
              "  </thead>\n",
              "  <tbody>\n",
              "    <tr>\n",
              "      <th>0</th>\n",
              "      <td>20900015</td>\n",
              "      <td>4</td>\n",
              "      <td>Stephen Curry</td>\n",
              "      <td>1</td>\n",
              "      <td>11</td>\n",
              "      <td>25</td>\n",
              "      <td>Jump Shot</td>\n",
              "      <td>3PT Field Goal</td>\n",
              "      <td>Above the Break 3</td>\n",
              "      <td>Right Side Center(RC)</td>\n",
              "      <td>24+ ft.</td>\n",
              "      <td>26</td>\n",
              "      <td>99</td>\n",
              "      <td>249</td>\n",
              "      <td>0</td>\n",
              "      <td>2009-10-28</td>\n",
              "      <td>GSW</td>\n",
              "      <td>HOU</td>\n",
              "      <td>Regular Season</td>\n",
              "      <td>2.0</td>\n",
              "      <td>1</td>\n",
              "    </tr>\n",
              "    <tr>\n",
              "      <th>1</th>\n",
              "      <td>20900015</td>\n",
              "      <td>17</td>\n",
              "      <td>Stephen Curry</td>\n",
              "      <td>1</td>\n",
              "      <td>9</td>\n",
              "      <td>31</td>\n",
              "      <td>Step Back Jump shot</td>\n",
              "      <td>2PT Field Goal</td>\n",
              "      <td>Mid-Range</td>\n",
              "      <td>Left Side Center(LC)</td>\n",
              "      <td>16-24 ft.</td>\n",
              "      <td>18</td>\n",
              "      <td>-122</td>\n",
              "      <td>145</td>\n",
              "      <td>1</td>\n",
              "      <td>2009-10-28</td>\n",
              "      <td>GSW</td>\n",
              "      <td>HOU</td>\n",
              "      <td>Regular Season</td>\n",
              "      <td>0.0</td>\n",
              "      <td>1</td>\n",
              "    </tr>\n",
              "  </tbody>\n",
              "</table>\n",
              "</div>"
            ],
            "text/plain": [
              "    game_id  game_event_id  ... scoremargin_before_shot  homecourt_advantage\n",
              "0  20900015              4  ...                     2.0                    1\n",
              "1  20900015             17  ...                     0.0                    1\n",
              "\n",
              "[2 rows x 21 columns]"
            ]
          },
          "metadata": {
            "tags": []
          },
          "execution_count": 130
        }
      ]
    },
    {
      "cell_type": "code",
      "metadata": {
        "colab": {
          "base_uri": "https://localhost:8080/"
        },
        "deletable": false,
        "id": "9BvdaqRoOUrc",
        "nbgrader": {
          "cell_type": "code",
          "checksum": "a786d072437c2876b466722a64ff5085",
          "grade": false,
          "grade_id": "225SC_02b_q",
          "locked": false,
          "schema_version": 3,
          "solution": true,
          "task": false
        },
        "outputId": "2e992410-38af-4950-ee79-a49c9d10557f"
      },
      "source": [
        "'''T4. Create training and val'''\n",
        "# YOUR CODE HERE\n",
        "df['game_date'].describe()"
      ],
      "execution_count": 131,
      "outputs": [
        {
          "output_type": "execute_result",
          "data": {
            "text/plain": [
              "count          13958\n",
              "unique           801\n",
              "top       2013-05-06\n",
              "freq              35\n",
              "Name: game_date, dtype: object"
            ]
          },
          "metadata": {
            "tags": []
          },
          "execution_count": 131
        }
      ]
    },
    {
      "cell_type": "code",
      "metadata": {
        "id": "ypxx7I4HgDm2"
      },
      "source": [
        "X['game_date'] = pd.to_datetime(X['game_date'], format='%Y-%m-%d')\n",
        "df['game_date'] = pd.to_datetime(df['game_date'], format='%Y-%m-%d')"
      ],
      "execution_count": 132,
      "outputs": []
    },
    {
      "cell_type": "code",
      "metadata": {
        "id": "4ZDvIwsIWh6H"
      },
      "source": [
        "X_train = X[(X['game_date'] >= pd.to_datetime('2009-10-01')) & (X['game_date'] < pd.to_datetime('2017-07-01'))]\n",
        "y_train = df[(df['game_date'] >= pd.to_datetime('2009-10-01')) & (df['game_date'] < pd.to_datetime('2017-07-01'))][target]\n",
        "X_val = X[(X['game_date'] >= pd.to_datetime('2017-10-01')) & (X['game_date'] < pd.to_datetime('2018-07-01'))]\n",
        "y_val = df[(df['game_date'] >= pd.to_datetime('2017-10-01')) & (df['game_date'] < pd.to_datetime('2018-07-01'))][target]\n",
        "\n",
        "X_test = X[(X['game_date'] >= pd.to_datetime('2018-10-01')) & (X['game_date'] < pd.to_datetime('2019-07-01'))]\n",
        "y_test = df[(df['game_date'] >= pd.to_datetime('2018-10-01')) & (df['game_date'] < pd.to_datetime('2019-07-01'))][target]\n"
      ],
      "execution_count": 133,
      "outputs": []
    },
    {
      "cell_type": "code",
      "metadata": {
        "colab": {
          "base_uri": "https://localhost:8080/"
        },
        "id": "ikrOZv777rco",
        "outputId": "161ce3c1-7138-4643-e395-26ad5570253a"
      },
      "source": [
        "df = X_test\n",
        "print(df.index.min())\n",
        "print(df.index.max())"
      ],
      "execution_count": 134,
      "outputs": [
        {
          "output_type": "stream",
          "text": [
            "12249\n",
            "13957\n"
          ],
          "name": "stdout"
        }
      ]
    },
    {
      "cell_type": "markdown",
      "metadata": {
        "deletable": false,
        "editable": false,
        "id": "IfMncrzIOUre",
        "nbgrader": {
          "cell_type": "markdown",
          "checksum": "d7a7ca9cdb31cdddad5c680c31a0d947",
          "grade": false,
          "grade_id": "cell-025dae513375f87c",
          "locked": true,
          "schema_version": 3,
          "solution": false,
          "task": false
        }
      },
      "source": [
        "**Test 4**"
      ]
    },
    {
      "cell_type": "code",
      "metadata": {
        "deletable": false,
        "editable": false,
        "id": "MjBRCehWOUrf",
        "nbgrader": {
          "cell_type": "code",
          "checksum": "542e32df51f2c93a1f6676c076bbcaa6",
          "grade": true,
          "grade_id": "225SC_02_a",
          "locked": true,
          "points": 1,
          "schema_version": 3,
          "solution": false,
          "task": false
        }
      },
      "source": [
        "'''T4 Tests'''\n",
        "assert len(X_train) == len(y_train) == 11081\n",
        "assert len(X_val) == len(y_val) == 1168\n",
        "assert len(X_test) == len(y_test) == 1709\n"
      ],
      "execution_count": 135,
      "outputs": []
    },
    {
      "cell_type": "markdown",
      "metadata": {
        "deletable": false,
        "editable": false,
        "id": "8NYOGp4MOUrh",
        "nbgrader": {
          "cell_type": "markdown",
          "checksum": "416ca1511e492007ecf7e71ae9634237",
          "grade": false,
          "grade_id": "cell-28f236308828133c",
          "locked": true,
          "schema_version": 3,
          "solution": false,
          "task": false
        }
      },
      "source": [
        "# III. Establish Baseline\n",
        "\n",
        "**Task 5:** Establish the baseline accuracy score for this classification problem using your training set. Save the score to the variable `baseline_acc`."
      ]
    },
    {
      "cell_type": "code",
      "metadata": {
        "colab": {
          "base_uri": "https://localhost:8080/"
        },
        "id": "Y4nKsExapdsH",
        "outputId": "8760cf8c-845b-4cde-ccc9-d3e9b48e201b"
      },
      "source": [
        "#target = 'shot_made_flag'\n",
        "y_train.value_counts(normalize=True)"
      ],
      "execution_count": 137,
      "outputs": [
        {
          "output_type": "execute_result",
          "data": {
            "text/plain": [
              "0    0.527209\n",
              "1    0.472791\n",
              "Name: shot_made_flag, dtype: float64"
            ]
          },
          "metadata": {
            "tags": []
          },
          "execution_count": 137
        }
      ]
    },
    {
      "cell_type": "code",
      "metadata": {
        "id": "SKvsJ0h4qFvL"
      },
      "source": [
        "majority_class = y_train.mode()[0]\n",
        "y_pred = [majority_class] * len(y_train)"
      ],
      "execution_count": 138,
      "outputs": []
    },
    {
      "cell_type": "code",
      "metadata": {
        "colab": {
          "base_uri": "https://localhost:8080/"
        },
        "deletable": false,
        "id": "6eZiCkSDOUri",
        "nbgrader": {
          "cell_type": "code",
          "checksum": "c28391427425a03d66b5e324e586f299",
          "grade": false,
          "grade_id": "225SC_03_q",
          "locked": false,
          "schema_version": 3,
          "solution": true,
          "task": false
        },
        "outputId": "5fc349bd-8a4e-443d-e184-4a42c1b23e15"
      },
      "source": [
        "'''T5. Calculate baseline accuracy `baseline_acc`.'''\n",
        "from sklearn.metrics import accuracy_score\n",
        "baseline_acc = accuracy_score(y_train, y_pred)\n",
        "# YOUR CODE HERE\n",
        "print('Baseline Accuracy:', baseline_acc)"
      ],
      "execution_count": 139,
      "outputs": [
        {
          "output_type": "stream",
          "text": [
            "Baseline Accuracy: 0.5272087356736757\n"
          ],
          "name": "stdout"
        }
      ]
    },
    {
      "cell_type": "markdown",
      "metadata": {
        "deletable": false,
        "editable": false,
        "id": "seuVCNLfOUrk",
        "nbgrader": {
          "cell_type": "markdown",
          "checksum": "a0ef09195e90b4901f5d80da3babd310",
          "grade": false,
          "grade_id": "cell-a7dd0a3aa55b90e0",
          "locked": true,
          "schema_version": 3,
          "solution": false,
          "task": false
        }
      },
      "source": [
        "**Task 5 Testing**"
      ]
    },
    {
      "cell_type": "code",
      "metadata": {
        "deletable": false,
        "editable": false,
        "id": "qNO8Cc0oOUrl",
        "nbgrader": {
          "cell_type": "code",
          "checksum": "4b10c894698890e348e6d02c786d1e96",
          "grade": true,
          "grade_id": "225SC_03_a",
          "locked": true,
          "points": 1,
          "schema_version": 3,
          "solution": false,
          "task": false
        }
      },
      "source": [
        "'''T5 Testing'''\n",
        "\n",
        "assert isinstance(baseline_acc, float)\n",
        "assert 0.0 <= baseline_acc <= 1.0\n"
      ],
      "execution_count": 140,
      "outputs": []
    },
    {
      "cell_type": "markdown",
      "metadata": {
        "deletable": false,
        "editable": false,
        "id": "ZhvHv71JOUrn",
        "nbgrader": {
          "cell_type": "markdown",
          "checksum": "0373e6c6d748ecfb29c1638f8c93f33a",
          "grade": false,
          "grade_id": "cell-36a0288a6c00e795",
          "locked": true,
          "schema_version": 3,
          "solution": false,
          "task": false
        }
      },
      "source": [
        "# IV. Build Model\n",
        "\n",
        "**Task 6:** Build a model that includes (1) a transformer for categorical features and (2) a tree-based predictor. You should combine these two components (and any other pieces you think are necessary) in a pipeline named `model`. Be sure to fit your model to your training data."
      ]
    },
    {
      "cell_type": "code",
      "metadata": {
        "deletable": false,
        "id": "UidpqqMwOUro",
        "nbgrader": {
          "cell_type": "code",
          "checksum": "3fc6b9e2872bf60a7b829741ab8d8774",
          "grade": false,
          "grade_id": "225SC_04_q",
          "locked": false,
          "schema_version": 3,
          "solution": true,
          "task": false
        }
      },
      "source": [
        "'''T6. Build a pipeline `model` with encoder and tree-based predictor.'''\n",
        "import category_encoders as ce \n",
        "from sklearn.impute import SimpleImputer\n",
        "from sklearn.pipeline import make_pipeline\n",
        "from sklearn.tree import DecisionTreeClassifier\n",
        "from sklearn.ensemble import RandomForestRegressor\n",
        "from sklearn.model_selection import cross_val_score\n",
        "from sklearn.linear_model import LogisticRegression\n",
        "from sklearn.preprocessing import StandardScaler\n"
      ],
      "execution_count": 146,
      "outputs": []
    },
    {
      "cell_type": "code",
      "metadata": {
        "colab": {
          "base_uri": "https://localhost:8080/"
        },
        "id": "U09RiW-KxNPZ",
        "outputId": "3b152846-bf5d-45f3-a063-8fb31483b24c"
      },
      "source": [
        "numeric_features = X_train.select_dtypes(include='number').columns.tolist()\n",
        "cardinality = X_train.select_dtypes(exclude='number').nunique()\n",
        "categorical_features = cardinality[cardinality <= 50].index.tolist()\n",
        "features = numeric_features + categorical_features\n",
        "features\n"
      ],
      "execution_count": 148,
      "outputs": [
        {
          "output_type": "execute_result",
          "data": {
            "text/plain": [
              "['game_id',\n",
              " 'game_event_id',\n",
              " 'period',\n",
              " 'minutes_remaining',\n",
              " 'seconds_remaining',\n",
              " 'shot_distance',\n",
              " 'loc_x',\n",
              " 'loc_y',\n",
              " 'scoremargin_before_shot',\n",
              " 'homecourt_advantage',\n",
              " 'player_name',\n",
              " 'shot_type',\n",
              " 'shot_zone_basic',\n",
              " 'shot_zone_area',\n",
              " 'shot_zone_range',\n",
              " 'htm',\n",
              " 'vtm',\n",
              " 'season_type']"
            ]
          },
          "metadata": {
            "tags": []
          },
          "execution_count": 148
        }
      ]
    },
    {
      "cell_type": "code",
      "metadata": {
        "id": "zdClOWg50gR6"
      },
      "source": [
        "X_train = X_train[features]\n",
        "X_val = X_val[features]\n",
        "X_test = X_test[features]"
      ],
      "execution_count": 150,
      "outputs": []
    },
    {
      "cell_type": "code",
      "metadata": {
        "colab": {
          "base_uri": "https://localhost:8080/"
        },
        "id": "521-QGVp0XD7",
        "outputId": "037bbd38-f25d-4c15-cf57-e0079de1c964"
      },
      "source": [
        "model = make_pipeline(\n",
        "    ce.OrdinalEncoder(), \n",
        "    SimpleImputer(strategy='mean'), \n",
        "    DecisionTreeClassifier(random_state=42)\n",
        ")\n",
        "\n",
        "model.fit(X_train, y_train)"
      ],
      "execution_count": 151,
      "outputs": [
        {
          "output_type": "execute_result",
          "data": {
            "text/plain": [
              "Pipeline(memory=None,\n",
              "         steps=[('ordinalencoder',\n",
              "                 OrdinalEncoder(cols=['player_name', 'shot_type',\n",
              "                                      'shot_zone_basic', 'shot_zone_area',\n",
              "                                      'shot_zone_range', 'htm', 'vtm',\n",
              "                                      'season_type'],\n",
              "                                drop_invariant=False, handle_missing='value',\n",
              "                                handle_unknown='value',\n",
              "                                mapping=[{'col': 'player_name',\n",
              "                                          'data_type': dtype('O'),\n",
              "                                          'mapping': Stephen Curry    1\n",
              "NaN             -2\n",
              "dtype: int64},\n",
              "                                         {'col': 'shot_typ...\n",
              "                               verbose=0)),\n",
              "                ('decisiontreeclassifier',\n",
              "                 DecisionTreeClassifier(ccp_alpha=0.0, class_weight=None,\n",
              "                                        criterion='gini', max_depth=None,\n",
              "                                        max_features=None, max_leaf_nodes=None,\n",
              "                                        min_impurity_decrease=0.0,\n",
              "                                        min_impurity_split=None,\n",
              "                                        min_samples_leaf=1, min_samples_split=2,\n",
              "                                        min_weight_fraction_leaf=0.0,\n",
              "                                        presort='deprecated', random_state=42,\n",
              "                                        splitter='best'))],\n",
              "         verbose=False)"
            ]
          },
          "metadata": {
            "tags": []
          },
          "execution_count": 151
        }
      ]
    },
    {
      "cell_type": "markdown",
      "metadata": {
        "deletable": false,
        "editable": false,
        "id": "BdBRcK50OUrq",
        "nbgrader": {
          "cell_type": "markdown",
          "checksum": "51f76ac7ea3fe7974c0b09203e95ea67",
          "grade": false,
          "grade_id": "cell-ab9483c995e69b66",
          "locked": true,
          "schema_version": 3,
          "solution": false,
          "task": false
        }
      },
      "source": [
        "**Task 6 Testing**"
      ]
    },
    {
      "cell_type": "code",
      "metadata": {
        "deletable": false,
        "editable": false,
        "id": "qw0oHcuQOUrr",
        "nbgrader": {
          "cell_type": "code",
          "checksum": "31311841abe29036ec8ee958e151f013",
          "grade": true,
          "grade_id": "225SC_04_a",
          "locked": true,
          "points": 1,
          "schema_version": 3,
          "solution": false,
          "task": false
        }
      },
      "source": [
        "'''T6 Testing'''\n",
        "\n",
        "import sklearn\n",
        "assert isinstance(model, sklearn.pipeline.Pipeline), '`model` should be type `Pipeline`.'\n",
        "\n",
        "# Does `model` Pipeline have multiple components?\n",
        "assert len(model.named_steps.keys()) > 1, '`model` should have more than one component.'\n",
        "\n",
        "# Has `model` been trained?\n",
        "assert hasattr(model, 'classes_'), 'Have you trained `model`?'\n"
      ],
      "execution_count": 152,
      "outputs": []
    },
    {
      "cell_type": "markdown",
      "metadata": {
        "deletable": false,
        "editable": false,
        "id": "k_A786FUOUrt",
        "nbgrader": {
          "cell_type": "markdown",
          "checksum": "b830a678806f0afb1fae00d3aae4019c",
          "grade": false,
          "grade_id": "cell-c4ae57b31cfead21",
          "locked": true,
          "schema_version": 3,
          "solution": false,
          "task": false
        }
      },
      "source": [
        "# V. Check Metrics\n",
        "\n",
        "**Task 7:** Check the training and validation accuracy of your model, and assign the scores to `train_acc` and `val_acc` respectively."
      ]
    },
    {
      "cell_type": "code",
      "metadata": {
        "colab": {
          "base_uri": "https://localhost:8080/"
        },
        "deletable": false,
        "id": "gHSZCmBhOUru",
        "nbgrader": {
          "cell_type": "code",
          "checksum": "57204172c2fe58d81276cfcb3fe2b88e",
          "grade": false,
          "grade_id": "225SC_05_q",
          "locked": false,
          "schema_version": 3,
          "solution": true,
          "task": false
        },
        "outputId": "235bd5d8-bbba-4174-b0cb-f1231fc8eab2"
      },
      "source": [
        "'''T7. Calculate train and test accuracy.'''\n",
        "\n",
        "# YOUR CODE HERE\n",
        "train_acc = model.score(X_train, y_train)\n",
        "val_acc = model.score(X_val, y_val)\n",
        "print('Training Accuracy Score:', train_acc)\n",
        "print('Validation Accuracy Score:', val_acc)"
      ],
      "execution_count": 153,
      "outputs": [
        {
          "output_type": "stream",
          "text": [
            "Training Accuracy Score: 1.0\n",
            "Validation Accuracy Score: 0.5231164383561644\n"
          ],
          "name": "stdout"
        }
      ]
    },
    {
      "cell_type": "markdown",
      "metadata": {
        "deletable": false,
        "editable": false,
        "id": "cejPfZyvOUrw",
        "nbgrader": {
          "cell_type": "markdown",
          "checksum": "5f26eacfafe6f5b12083dfe93033add4",
          "grade": false,
          "grade_id": "cell-1c8ee42427653f95",
          "locked": true,
          "schema_version": 3,
          "solution": false,
          "task": false
        }
      },
      "source": [
        "**Task 7 Test**"
      ]
    },
    {
      "cell_type": "code",
      "metadata": {
        "deletable": false,
        "editable": false,
        "id": "6irQ3xW5OUrw",
        "nbgrader": {
          "cell_type": "code",
          "checksum": "c5f81eb42f3976b48fd0561541addb87",
          "grade": true,
          "grade_id": "225SC_05_a",
          "locked": true,
          "points": 1,
          "schema_version": 3,
          "solution": false,
          "task": false
        }
      },
      "source": [
        "'''T7 Testing'''\n",
        "\n",
        "# Is `training_acc` a float between 0.0 and 1.0?\n",
        "assert isinstance(train_acc, float)\n",
        "assert 0.0 <= train_acc <= 1.0\n",
        "\n",
        "# Is `validation_acc` a float between 0.0 and 1.0?\n",
        "assert isinstance(val_acc, float)\n",
        "assert 0.0 <= val_acc <= 1.0\n"
      ],
      "execution_count": 154,
      "outputs": []
    },
    {
      "cell_type": "markdown",
      "metadata": {
        "deletable": false,
        "editable": false,
        "nbgrader": {
          "cell_type": "markdown",
          "checksum": "26c6585ca7e1d35df0b4f509ad79ac41",
          "grade": false,
          "grade_id": "cell-40a154aa7afa5ce0",
          "locked": true,
          "schema_version": 3,
          "solution": false,
          "task": false
        },
        "id": "3d69rza67rco"
      },
      "source": [
        "# VI. Tune Model\n",
        "\n",
        "**Task 8 (`stretch goal — optional`):** Using your training and validation sets as a guide, tune the hyperparameters of your model to see if you can improve its accuracy. You can perform your tuning \"by hand\" or using [`RandomizedSearchCV`](https://scikit-learn.org/stable/modules/generated/sklearn.model_selection.RandomizedSearchCV.html).\n",
        "\n",
        "- Important hyperparameters for all tree-based models: `max_depth`.\n",
        "- Important hyperparameters for random forest models: `n_estimators`, `max_samples`. \n",
        "- Important hyperparametes for gradient boosting tree models: `n_estimators`, `learning_rate`.\n",
        "- **TIP:** If you use `RandomizedSearchCV`, set `n_iter` to `3`. Any larger and the auto-grader will stop working.\n",
        "- **TIP:** Since you already created a validation set above, there is no need to do k-fold cross-validation here. Set `cv` to `None`.\n",
        "\n",
        "Once you're satisfied with your model's performance on the validation set (if you can get above `0.6`, you're doing good), calculate its accuracy with your test set. Assign the result to `test_acc`."
      ]
    },
    {
      "cell_type": "code",
      "metadata": {
        "id": "IB1JUsUq7M3K"
      },
      "source": [
        "from sklearn.model_selection import GridSearchCV, RandomizedSearchCV\n",
        "from scipy.stats import randint, uniform"
      ],
      "execution_count": 157,
      "outputs": []
    },
    {
      "cell_type": "code",
      "metadata": {
        "deletable": false,
        "nbgrader": {
          "cell_type": "code",
          "checksum": "b5cca689a3aaf250e4f52c3e910bce29",
          "grade": false,
          "grade_id": "cell-573c39cfe6281f06",
          "locked": false,
          "schema_version": 3,
          "solution": true,
          "task": false
        },
        "colab": {
          "base_uri": "https://localhost:8080/"
        },
        "id": "gYSIUfzq7rco",
        "outputId": "ce4b0c14-efa7-4227-f70b-0e3a23b254e9"
      },
      "source": [
        "'''T8. Tune model.'''\n",
        "model = make_pipeline(\n",
        "    ce.TargetEncoder(), \n",
        "    SimpleImputer(), \n",
        "    RandomForestRegressor(random_state=42)\n",
        ")\n",
        "param_distributions = {\n",
        "    'targetencoder__min_samples_leaf': randint(1, 1000), \n",
        "    'simpleimputer__strategy': ['mean', 'median'], \n",
        "    'randomforestregressor__n_estimators': randint(50, 500), \n",
        "    'randomforestregressor__max_depth': [5, 10, 15, 20, None], \n",
        "    'randomforestregressor__max_features': uniform(0, 1), \n",
        "}\n",
        "search = RandomizedSearchCV(\n",
        "    model, \n",
        "    param_distributions=param_distributions, \n",
        "    n_iter=3, \n",
        "    cv=None, \n",
        "    scoring='neg_mean_absolute_error', \n",
        "    verbose=10, \n",
        "    return_train_score=True, \n",
        "    n_jobs=-1\n",
        ")\n",
        "\n",
        "search.fit(X_train, y_train);\n"
      ],
      "execution_count": 181,
      "outputs": [
        {
          "output_type": "stream",
          "text": [
            "Fitting 5 folds for each of 3 candidates, totalling 15 fits\n"
          ],
          "name": "stdout"
        },
        {
          "output_type": "stream",
          "text": [
            "[Parallel(n_jobs=-1)]: Using backend LokyBackend with 2 concurrent workers.\n",
            "[Parallel(n_jobs=-1)]: Done   1 tasks      | elapsed:    9.4s\n",
            "[Parallel(n_jobs=-1)]: Done   4 tasks      | elapsed:   17.4s\n",
            "[Parallel(n_jobs=-1)]: Done   9 tasks      | elapsed:   52.4s\n",
            "[Parallel(n_jobs=-1)]: Done  15 out of  15 | elapsed:  1.1min finished\n",
            "/usr/local/lib/python3.6/dist-packages/category_encoders/utils.py:21: FutureWarning: is_categorical is deprecated and will be removed in a future version.  Use is_categorical_dtype instead\n",
            "  elif pd.api.types.is_categorical(cols):\n"
          ],
          "name": "stderr"
        }
      ]
    },
    {
      "cell_type": "code",
      "metadata": {
        "colab": {
          "base_uri": "https://localhost:8080/"
        },
        "id": "aVaIanIP7_1w",
        "outputId": "6418f267-1a5e-4427-eb33-ef2291359714"
      },
      "source": [
        "print('Best hyperparameters', search.best_params_)\n",
        "print('Cross-validation MAE', -search.best_score_)"
      ],
      "execution_count": 174,
      "outputs": [
        {
          "output_type": "stream",
          "text": [
            "Best hyperparameters {'randomforestregressor__max_depth': 10, 'randomforestregressor__max_features': 0.39370983649766256, 'randomforestregressor__n_estimators': 292, 'simpleimputer__strategy': 'mean', 'targetencoder__min_samples_leaf': 724}\n",
            "Cross-validation MAE 0.4811668466789795\n"
          ],
          "name": "stdout"
        }
      ]
    },
    {
      "cell_type": "code",
      "metadata": {
        "id": "rgWRCmJUEswY"
      },
      "source": [
        "pipeline = search.best_estimator_"
      ],
      "execution_count": 183,
      "outputs": []
    },
    {
      "cell_type": "code",
      "metadata": {
        "colab": {
          "base_uri": "https://localhost:8080/"
        },
        "id": "eGvfnbC69iHq",
        "outputId": "4a8a60ae-7e4b-4c93-cc82-2e585103f990"
      },
      "source": [
        "from sklearn.metrics import mean_absolute_error\n",
        "\n",
        "y_pred = pipeline.predict(X_test)\n",
        "test_acc = mean_absolute_error(y_test, y_pred)\n",
        "print('Testing Accuracy Score:', test_acc)"
      ],
      "execution_count": 186,
      "outputs": [
        {
          "output_type": "stream",
          "text": [
            "Testing Accuracy Score: 0.48275374124684006\n"
          ],
          "name": "stdout"
        }
      ]
    },
    {
      "cell_type": "markdown",
      "metadata": {
        "id": "Wmhtwoeu7rco"
      },
      "source": [
        "**Task 8 Testing**"
      ]
    },
    {
      "cell_type": "code",
      "metadata": {
        "deletable": false,
        "editable": false,
        "nbgrader": {
          "cell_type": "code",
          "checksum": "aaad1200c6f3f83d3f97435d6731e405",
          "grade": true,
          "grade_id": "cell-6028e9cba0fc28d3",
          "locked": true,
          "points": 1,
          "schema_version": 3,
          "solution": false,
          "task": false
        },
        "id": "GcYRylON7rco"
      },
      "source": [
        "'''T8 Testing'''\n",
        "\n",
        "assert isinstance(test_acc, float)\n",
        "assert 0.0 <= test_acc <= 1.0"
      ],
      "execution_count": 187,
      "outputs": []
    },
    {
      "cell_type": "markdown",
      "metadata": {
        "deletable": false,
        "editable": false,
        "nbgrader": {
          "cell_type": "markdown",
          "checksum": "8db3430fd99f6657dd83938a0d536c1e",
          "grade": false,
          "grade_id": "cell-0e008b7c42ac3b70",
          "locked": true,
          "schema_version": 3,
          "solution": false,
          "task": false
        },
        "id": "Wlkg44lR7rco"
      },
      "source": [
        "# VII. Communication\n",
        "\n",
        "**Task 9:** Below is a confusion matrix for the model that your instructor made for this challenge (based on the **test data**). Calculate the precision and recall of this model, naming them `instructor_precision` and `instructor_recall`, respectively.\n",
        "\n",
        "![](data:image/png;base64,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)"
      ]
    },
    {
      "cell_type": "code",
      "metadata": {
        "deletable": false,
        "nbgrader": {
          "cell_type": "code",
          "checksum": "b8ae36a67a4ab9283a7f843d9697c57d",
          "grade": false,
          "grade_id": "cell-83509e08a73e81b5",
          "locked": false,
          "schema_version": 3,
          "solution": true,
          "task": false
        },
        "colab": {
          "base_uri": "https://localhost:8080/"
        },
        "id": "4erTQF0-7rco",
        "outputId": "1e5d2268-8e98-461c-bf93-0ea05c49c42c"
      },
      "source": [
        "'''T9. Calculate precision and recall'''\n",
        "# YOUR CODE HERE\n",
        "instructor_precision = 538 / (538 + 387)\n",
        "instructor_recall = 538 / (538 + 259)\n",
        "print('Instuctor model precision', instructor_precision)\n",
        "print('Instuctor model recall', instructor_recall)"
      ],
      "execution_count": 171,
      "outputs": [
        {
          "output_type": "stream",
          "text": [
            "Instuctor model precision 0.5816216216216217\n",
            "Instuctor model recall 0.6750313676286073\n"
          ],
          "name": "stdout"
        }
      ]
    },
    {
      "cell_type": "markdown",
      "metadata": {
        "deletable": false,
        "editable": false,
        "nbgrader": {
          "cell_type": "markdown",
          "checksum": "48c102d0b0ca01e1a1a84f2b31437358",
          "grade": false,
          "grade_id": "cell-f312715b3057666e",
          "locked": true,
          "schema_version": 3,
          "solution": false,
          "task": false
        },
        "id": "6bW2qRpQ7rco"
      },
      "source": [
        "**Task 9 Testing**"
      ]
    },
    {
      "cell_type": "code",
      "metadata": {
        "deletable": false,
        "editable": false,
        "nbgrader": {
          "cell_type": "code",
          "checksum": "c303f6e8a1ad2f81e090a7f304d6a474",
          "grade": true,
          "grade_id": "cell-ec6f47b7dca9966b",
          "locked": true,
          "points": 1,
          "schema_version": 3,
          "solution": false,
          "task": false
        },
        "id": "V89ZdPnq7rco"
      },
      "source": [
        "'''T9 Testing'''\n",
        "assert isinstance(instructor_precision, float)\n",
        "assert isinstance(instructor_recall, float)\n",
        "assert 0 <= instructor_precision <= 1\n",
        "assert 0 <= instructor_recall <= 1"
      ],
      "execution_count": 172,
      "outputs": []
    },
    {
      "cell_type": "markdown",
      "metadata": {
        "deletable": false,
        "editable": false,
        "id": "gREDVKaGOUrz",
        "nbgrader": {
          "cell_type": "markdown",
          "checksum": "1bd2e7b3005ac29a4d27641b947dd63a",
          "grade": false,
          "grade_id": "cell-235fe09bb4f2bda6",
          "locked": true,
          "schema_version": 3,
          "solution": false,
          "task": false
        }
      },
      "source": [
        "**Task 10 (`stretch goal — optional`):** Plot confusion matrix for your model using your **test data**. Does your model have higher recall or higher precision? How does your model's metrics compare to the metrics you calculated above?"
      ]
    },
    {
      "cell_type": "code",
      "metadata": {
        "deletable": false,
        "id": "W9_4caTROUrz",
        "nbgrader": {
          "cell_type": "code",
          "checksum": "43e2179a73f1d179803ed2ec2a3c97a8",
          "grade": false,
          "grade_id": "225SC_06_a",
          "locked": false,
          "schema_version": 3,
          "solution": true,
          "task": false
        }
      },
      "source": [
        "'''T10. Plot ROC curve.'''\n",
        "# YOUR CODE HERE\n",
        "raise NotImplementedError()"
      ],
      "execution_count": null,
      "outputs": []
    }
  ]
}